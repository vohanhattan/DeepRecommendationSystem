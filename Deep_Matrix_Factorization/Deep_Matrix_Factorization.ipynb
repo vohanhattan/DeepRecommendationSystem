{
  "nbformat": 4,
  "nbformat_minor": 0,
  "metadata": {
    "colab": {
      "name": "DMF.ipynb",
      "provenance": [],
      "collapsed_sections": []
    },
    "kernelspec": {
      "name": "python3",
      "display_name": "Python 3"
    },
    "language_info": {
      "name": "python"
    },
    "accelerator": "GPU"
  },
  "cells": [
    {
      "cell_type": "code",
      "execution_count": null,
      "metadata": {
        "id": "OWF2TrVgO5Yl"
      },
      "outputs": [],
      "source": [
        "from keras.layers import Dense, Dropout, Flatten\n",
        "from tensorflow.keras.optimizers import Adam,SGD,Adagrad,Adadelta,RMSprop\n",
        "import warnings\n",
        "warnings.filterwarnings('ignore')\n",
        "import numpy as np\n",
        "import pandas as pd\n",
        "import math \n",
        "import itertools\n",
        "from keras.layers import Embedding, Input, dot, concatenate\n",
        "from keras.models import Model\n",
        "from IPython.display import SVG\n",
        "from keras.utils.vis_utils import model_to_dot\n",
        "from sklearn.model_selection import train_test_split\n",
        "import matplotlib as mpl\n",
        "import matplotlib.pyplot as plt\n",
        "import matplotlib.pylab as pylab\n",
        "import seaborn as sns\n",
        "import missingno as msno\n"
      ]
    },
    {
      "cell_type": "code",
      "source": [
        "ratings = pd.read_csv('ratings.csv', sep=',', encoding='latin-1', usecols=['userid', 'movieid', 'rating'])\n",
        "movies = pd.read_csv('movies.csv', sep=',', encoding='latin-1', usecols=['movieid', 'title', 'genre'])"
      ],
      "metadata": {
        "id": "EtMGvvzLPHRK"
      },
      "execution_count": null,
      "outputs": []
    },
    {
      "cell_type": "code",
      "source": [
        "X = ratings.iloc[:,:2]\n",
        "Y = ratings.iloc[:,2]\n",
        "\n",
        "x_train, x_test, y_train, y_test = train_test_split(X, Y, test_size = 0.1, random_state = 2000)"
      ],
      "metadata": {
        "id": "yR7v2fDQSsc6"
      },
      "execution_count": null,
      "outputs": []
    },
    {
      "cell_type": "code",
      "source": [
        "# The number of latent factors for the embedding\n",
        "n_latent_factors = 50\n",
        "\n",
        "# no of users and movies\n",
        "n_users, n_movies = len(ratings['userid'].unique()), len(ratings['movieid'].unique()) "
      ],
      "metadata": {
        "id": "RSu3TnttWU8u"
      },
      "execution_count": null,
      "outputs": []
    },
    {
      "cell_type": "code",
      "source": [
        "# Model Architecture\n",
        "\n",
        "\n",
        "# User Embeddings\n",
        "user_input = Input(shape=(1,), name='User_Input')\n",
        "user_embeddings = Embedding(input_dim = n_users, output_dim=n_latent_factors, input_length=1, \n",
        "                              name='User_Embedding') (user_input)\n",
        "user_vector = Flatten(name='User_Vector') (user_embeddings)\n",
        "\n",
        "\n",
        "# Movie Embeddings\n",
        "movie_input = Input(shape=(1,), name='Movie_Input')\n",
        "movie_embeddings = Embedding(input_dim = n_movies, output_dim=n_latent_factors, input_length=1, \n",
        "                               name='Movie_Embedding') (movie_input)\n",
        "movie_vector = Flatten(name='Movie_Vector') (movie_embeddings)\n",
        "\n",
        "\n",
        "# Dot Product\n",
        "merged_vectors = dot([user_vector, movie_vector], name='Dot_Product', axes=1)\n",
        "model = Model([user_input, movie_input], merged_vectors)"
      ],
      "metadata": {
        "id": "S1ZnQ85MWd-B"
      },
      "execution_count": null,
      "outputs": []
    },
    {
      "cell_type": "code",
      "source": [
        "SVG(model_to_dot( model,  show_shapes=True, show_layer_names=True).create(prog='dot', format='svg'))"
      ],
      "metadata": {
        "colab": {
          "base_uri": "https://localhost:8080/",
          "height": 581
        },
        "id": "UYsVIqjGWgN3",
        "outputId": "382b479e-3c64-42c6-8e66-b309de128931"
      },
      "execution_count": null,
      "outputs": [
        {
          "output_type": "execute_result",
          "data": {
            "text/plain": [
              "<IPython.core.display.SVG object>"
            ],
            "image/svg+xml": "<svg height=\"405pt\" viewBox=\"0.00 0.00 722.50 304.00\" width=\"963pt\" xmlns=\"http://www.w3.org/2000/svg\" xmlns:xlink=\"http://www.w3.org/1999/xlink\">\n<g class=\"graph\" id=\"graph0\" transform=\"scale(1.3333 1.3333) rotate(0) translate(4 300)\">\n<title>G</title>\n<polygon fill=\"#ffffff\" points=\"-4,4 -4,-300 718.5,-300 718.5,4 -4,4\" stroke=\"transparent\"/>\n<!-- 140202547406544 -->\n<g class=\"node\" id=\"node1\">\n<title>140202547406544</title>\n<polygon fill=\"none\" points=\"21,-249.5 21,-295.5 322,-295.5 322,-249.5 21,-249.5\" stroke=\"#000000\"/>\n<text fill=\"#000000\" font-family=\"Times,serif\" font-size=\"14.00\" text-anchor=\"middle\" x=\"61.5\" y=\"-280.3\">User_Input</text>\n<polyline fill=\"none\" points=\"21,-272.5 102,-272.5 \" stroke=\"#000000\"/>\n<text fill=\"#000000\" font-family=\"Times,serif\" font-size=\"14.00\" text-anchor=\"middle\" x=\"61.5\" y=\"-257.3\">InputLayer</text>\n<polyline fill=\"none\" points=\"102,-249.5 102,-295.5 \" stroke=\"#000000\"/>\n<text fill=\"#000000\" font-family=\"Times,serif\" font-size=\"14.00\" text-anchor=\"middle\" x=\"131\" y=\"-280.3\">input:</text>\n<polyline fill=\"none\" points=\"102,-272.5 160,-272.5 \" stroke=\"#000000\"/>\n<text fill=\"#000000\" font-family=\"Times,serif\" font-size=\"14.00\" text-anchor=\"middle\" x=\"131\" y=\"-257.3\">output:</text>\n<polyline fill=\"none\" points=\"160,-249.5 160,-295.5 \" stroke=\"#000000\"/>\n<text fill=\"#000000\" font-family=\"Times,serif\" font-size=\"14.00\" text-anchor=\"middle\" x=\"200.5\" y=\"-268.8\">[(None, 1)]</text>\n<polyline fill=\"none\" points=\"241,-249.5 241,-295.5 \" stroke=\"#000000\"/>\n<text fill=\"#000000\" font-family=\"Times,serif\" font-size=\"14.00\" text-anchor=\"middle\" x=\"281.5\" y=\"-268.8\">[(None, 1)]</text>\n</g>\n<!-- 140202531852176 -->\n<g class=\"node\" id=\"node3\">\n<title>140202531852176</title>\n<polygon fill=\"none\" points=\"0,-166.5 0,-212.5 343,-212.5 343,-166.5 0,-166.5\" stroke=\"#000000\"/>\n<text fill=\"#000000\" font-family=\"Times,serif\" font-size=\"14.00\" text-anchor=\"middle\" x=\"59\" y=\"-197.3\">User_Embedding</text>\n<polyline fill=\"none\" points=\"0,-189.5 118,-189.5 \" stroke=\"#000000\"/>\n<text fill=\"#000000\" font-family=\"Times,serif\" font-size=\"14.00\" text-anchor=\"middle\" x=\"59\" y=\"-174.3\">Embedding</text>\n<polyline fill=\"none\" points=\"118,-166.5 118,-212.5 \" stroke=\"#000000\"/>\n<text fill=\"#000000\" font-family=\"Times,serif\" font-size=\"14.00\" text-anchor=\"middle\" x=\"147\" y=\"-197.3\">input:</text>\n<polyline fill=\"none\" points=\"118,-189.5 176,-189.5 \" stroke=\"#000000\"/>\n<text fill=\"#000000\" font-family=\"Times,serif\" font-size=\"14.00\" text-anchor=\"middle\" x=\"147\" y=\"-174.3\">output:</text>\n<polyline fill=\"none\" points=\"176,-166.5 176,-212.5 \" stroke=\"#000000\"/>\n<text fill=\"#000000\" font-family=\"Times,serif\" font-size=\"14.00\" text-anchor=\"middle\" x=\"212\" y=\"-185.8\">(None, 1)</text>\n<polyline fill=\"none\" points=\"248,-166.5 248,-212.5 \" stroke=\"#000000\"/>\n<text fill=\"#000000\" font-family=\"Times,serif\" font-size=\"14.00\" text-anchor=\"middle\" x=\"295.5\" y=\"-185.8\">(None, 1, 50)</text>\n</g>\n<!-- 140202547406544&#45;&gt;140202531852176 -->\n<g class=\"edge\" id=\"edge1\">\n<title>140202547406544-&gt;140202531852176</title>\n<path d=\"M171.5,-249.3799C171.5,-241.1745 171.5,-231.7679 171.5,-222.8786\" fill=\"none\" stroke=\"#000000\"/>\n<polygon fill=\"#000000\" points=\"175.0001,-222.784 171.5,-212.784 168.0001,-222.784 175.0001,-222.784\" stroke=\"#000000\"/>\n</g>\n<!-- 140202531851920 -->\n<g class=\"node\" id=\"node2\">\n<title>140202531851920</title>\n<polygon fill=\"none\" points=\"381.5,-249.5 381.5,-295.5 693.5,-295.5 693.5,-249.5 381.5,-249.5\" stroke=\"#000000\"/>\n<text fill=\"#000000\" font-family=\"Times,serif\" font-size=\"14.00\" text-anchor=\"middle\" x=\"427.5\" y=\"-280.3\">Movie_Input</text>\n<polyline fill=\"none\" points=\"381.5,-272.5 473.5,-272.5 \" stroke=\"#000000\"/>\n<text fill=\"#000000\" font-family=\"Times,serif\" font-size=\"14.00\" text-anchor=\"middle\" x=\"427.5\" y=\"-257.3\">InputLayer</text>\n<polyline fill=\"none\" points=\"473.5,-249.5 473.5,-295.5 \" stroke=\"#000000\"/>\n<text fill=\"#000000\" font-family=\"Times,serif\" font-size=\"14.00\" text-anchor=\"middle\" x=\"502.5\" y=\"-280.3\">input:</text>\n<polyline fill=\"none\" points=\"473.5,-272.5 531.5,-272.5 \" stroke=\"#000000\"/>\n<text fill=\"#000000\" font-family=\"Times,serif\" font-size=\"14.00\" text-anchor=\"middle\" x=\"502.5\" y=\"-257.3\">output:</text>\n<polyline fill=\"none\" points=\"531.5,-249.5 531.5,-295.5 \" stroke=\"#000000\"/>\n<text fill=\"#000000\" font-family=\"Times,serif\" font-size=\"14.00\" text-anchor=\"middle\" x=\"572\" y=\"-268.8\">[(None, 1)]</text>\n<polyline fill=\"none\" points=\"612.5,-249.5 612.5,-295.5 \" stroke=\"#000000\"/>\n<text fill=\"#000000\" font-family=\"Times,serif\" font-size=\"14.00\" text-anchor=\"middle\" x=\"653\" y=\"-268.8\">[(None, 1)]</text>\n</g>\n<!-- 140202523257616 -->\n<g class=\"node\" id=\"node4\">\n<title>140202523257616</title>\n<polygon fill=\"none\" points=\"360.5,-166.5 360.5,-212.5 714.5,-212.5 714.5,-166.5 360.5,-166.5\" stroke=\"#000000\"/>\n<text fill=\"#000000\" font-family=\"Times,serif\" font-size=\"14.00\" text-anchor=\"middle\" x=\"425\" y=\"-197.3\">Movie_Embedding</text>\n<polyline fill=\"none\" points=\"360.5,-189.5 489.5,-189.5 \" stroke=\"#000000\"/>\n<text fill=\"#000000\" font-family=\"Times,serif\" font-size=\"14.00\" text-anchor=\"middle\" x=\"425\" y=\"-174.3\">Embedding</text>\n<polyline fill=\"none\" points=\"489.5,-166.5 489.5,-212.5 \" stroke=\"#000000\"/>\n<text fill=\"#000000\" font-family=\"Times,serif\" font-size=\"14.00\" text-anchor=\"middle\" x=\"518.5\" y=\"-197.3\">input:</text>\n<polyline fill=\"none\" points=\"489.5,-189.5 547.5,-189.5 \" stroke=\"#000000\"/>\n<text fill=\"#000000\" font-family=\"Times,serif\" font-size=\"14.00\" text-anchor=\"middle\" x=\"518.5\" y=\"-174.3\">output:</text>\n<polyline fill=\"none\" points=\"547.5,-166.5 547.5,-212.5 \" stroke=\"#000000\"/>\n<text fill=\"#000000\" font-family=\"Times,serif\" font-size=\"14.00\" text-anchor=\"middle\" x=\"583.5\" y=\"-185.8\">(None, 1)</text>\n<polyline fill=\"none\" points=\"619.5,-166.5 619.5,-212.5 \" stroke=\"#000000\"/>\n<text fill=\"#000000\" font-family=\"Times,serif\" font-size=\"14.00\" text-anchor=\"middle\" x=\"667\" y=\"-185.8\">(None, 1, 50)</text>\n</g>\n<!-- 140202531851920&#45;&gt;140202523257616 -->\n<g class=\"edge\" id=\"edge2\">\n<title>140202531851920-&gt;140202523257616</title>\n<path d=\"M537.5,-249.3799C537.5,-241.1745 537.5,-231.7679 537.5,-222.8786\" fill=\"none\" stroke=\"#000000\"/>\n<polygon fill=\"#000000\" points=\"541.0001,-222.784 537.5,-212.784 534.0001,-222.784 541.0001,-222.784\" stroke=\"#000000\"/>\n</g>\n<!-- 140202563295312 -->\n<g class=\"node\" id=\"node5\">\n<title>140202563295312</title>\n<polygon fill=\"none\" points=\"22.5,-83.5 22.5,-129.5 342.5,-129.5 342.5,-83.5 22.5,-83.5\" stroke=\"#000000\"/>\n<text fill=\"#000000\" font-family=\"Times,serif\" font-size=\"14.00\" text-anchor=\"middle\" x=\"66\" y=\"-114.3\">User_Vector</text>\n<polyline fill=\"none\" points=\"22.5,-106.5 109.5,-106.5 \" stroke=\"#000000\"/>\n<text fill=\"#000000\" font-family=\"Times,serif\" font-size=\"14.00\" text-anchor=\"middle\" x=\"66\" y=\"-91.3\">Flatten</text>\n<polyline fill=\"none\" points=\"109.5,-83.5 109.5,-129.5 \" stroke=\"#000000\"/>\n<text fill=\"#000000\" font-family=\"Times,serif\" font-size=\"14.00\" text-anchor=\"middle\" x=\"138.5\" y=\"-114.3\">input:</text>\n<polyline fill=\"none\" points=\"109.5,-106.5 167.5,-106.5 \" stroke=\"#000000\"/>\n<text fill=\"#000000\" font-family=\"Times,serif\" font-size=\"14.00\" text-anchor=\"middle\" x=\"138.5\" y=\"-91.3\">output:</text>\n<polyline fill=\"none\" points=\"167.5,-83.5 167.5,-129.5 \" stroke=\"#000000\"/>\n<text fill=\"#000000\" font-family=\"Times,serif\" font-size=\"14.00\" text-anchor=\"middle\" x=\"215\" y=\"-102.8\">(None, 1, 50)</text>\n<polyline fill=\"none\" points=\"262.5,-83.5 262.5,-129.5 \" stroke=\"#000000\"/>\n<text fill=\"#000000\" font-family=\"Times,serif\" font-size=\"14.00\" text-anchor=\"middle\" x=\"302.5\" y=\"-102.8\">(None, 50)</text>\n</g>\n<!-- 140202531852176&#45;&gt;140202563295312 -->\n<g class=\"edge\" id=\"edge3\">\n<title>140202531852176-&gt;140202563295312</title>\n<path d=\"M174.5641,-166.3799C175.6516,-158.1745 176.8982,-148.7679 178.0763,-139.8786\" fill=\"none\" stroke=\"#000000\"/>\n<polygon fill=\"#000000\" points=\"181.5699,-140.1572 179.4142,-129.784 174.6306,-139.2375 181.5699,-140.1572\" stroke=\"#000000\"/>\n</g>\n<!-- 140202523256464 -->\n<g class=\"node\" id=\"node6\">\n<title>140202523256464</title>\n<polygon fill=\"none\" points=\"366,-83.5 366,-129.5 697,-129.5 697,-83.5 366,-83.5\" stroke=\"#000000\"/>\n<text fill=\"#000000\" font-family=\"Times,serif\" font-size=\"14.00\" text-anchor=\"middle\" x=\"415\" y=\"-114.3\">Movie_Vector</text>\n<polyline fill=\"none\" points=\"366,-106.5 464,-106.5 \" stroke=\"#000000\"/>\n<text fill=\"#000000\" font-family=\"Times,serif\" font-size=\"14.00\" text-anchor=\"middle\" x=\"415\" y=\"-91.3\">Flatten</text>\n<polyline fill=\"none\" points=\"464,-83.5 464,-129.5 \" stroke=\"#000000\"/>\n<text fill=\"#000000\" font-family=\"Times,serif\" font-size=\"14.00\" text-anchor=\"middle\" x=\"493\" y=\"-114.3\">input:</text>\n<polyline fill=\"none\" points=\"464,-106.5 522,-106.5 \" stroke=\"#000000\"/>\n<text fill=\"#000000\" font-family=\"Times,serif\" font-size=\"14.00\" text-anchor=\"middle\" x=\"493\" y=\"-91.3\">output:</text>\n<polyline fill=\"none\" points=\"522,-83.5 522,-129.5 \" stroke=\"#000000\"/>\n<text fill=\"#000000\" font-family=\"Times,serif\" font-size=\"14.00\" text-anchor=\"middle\" x=\"569.5\" y=\"-102.8\">(None, 1, 50)</text>\n<polyline fill=\"none\" points=\"617,-83.5 617,-129.5 \" stroke=\"#000000\"/>\n<text fill=\"#000000\" font-family=\"Times,serif\" font-size=\"14.00\" text-anchor=\"middle\" x=\"657\" y=\"-102.8\">(None, 50)</text>\n</g>\n<!-- 140202523257616&#45;&gt;140202523256464 -->\n<g class=\"edge\" id=\"edge4\">\n<title>140202523257616-&gt;140202523256464</title>\n<path d=\"M535.8287,-166.3799C535.2355,-158.1745 534.5555,-148.7679 533.9129,-139.8786\" fill=\"none\" stroke=\"#000000\"/>\n<polygon fill=\"#000000\" points=\"537.3952,-139.5056 533.1832,-129.784 530.4134,-140.0104 537.3952,-139.5056\" stroke=\"#000000\"/>\n</g>\n<!-- 140202229650768 -->\n<g class=\"node\" id=\"node7\">\n<title>140202229650768</title>\n<polygon fill=\"none\" points=\"164.5,-.5 164.5,-46.5 544.5,-46.5 544.5,-.5 164.5,-.5\" stroke=\"#000000\"/>\n<text fill=\"#000000\" font-family=\"Times,serif\" font-size=\"14.00\" text-anchor=\"middle\" x=\"210\" y=\"-31.3\">Dot_Product</text>\n<polyline fill=\"none\" points=\"164.5,-23.5 255.5,-23.5 \" stroke=\"#000000\"/>\n<text fill=\"#000000\" font-family=\"Times,serif\" font-size=\"14.00\" text-anchor=\"middle\" x=\"210\" y=\"-8.3\">Dot</text>\n<polyline fill=\"none\" points=\"255.5,-.5 255.5,-46.5 \" stroke=\"#000000\"/>\n<text fill=\"#000000\" font-family=\"Times,serif\" font-size=\"14.00\" text-anchor=\"middle\" x=\"284.5\" y=\"-31.3\">input:</text>\n<polyline fill=\"none\" points=\"255.5,-23.5 313.5,-23.5 \" stroke=\"#000000\"/>\n<text fill=\"#000000\" font-family=\"Times,serif\" font-size=\"14.00\" text-anchor=\"middle\" x=\"284.5\" y=\"-8.3\">output:</text>\n<polyline fill=\"none\" points=\"313.5,-.5 313.5,-46.5 \" stroke=\"#000000\"/>\n<text fill=\"#000000\" font-family=\"Times,serif\" font-size=\"14.00\" text-anchor=\"middle\" x=\"393\" y=\"-19.8\">[(None, 50), (None, 50)]</text>\n<polyline fill=\"none\" points=\"472.5,-.5 472.5,-46.5 \" stroke=\"#000000\"/>\n<text fill=\"#000000\" font-family=\"Times,serif\" font-size=\"14.00\" text-anchor=\"middle\" x=\"508.5\" y=\"-19.8\">(None, 1)</text>\n</g>\n<!-- 140202563295312&#45;&gt;140202229650768 -->\n<g class=\"edge\" id=\"edge5\">\n<title>140202563295312-&gt;140202229650768</title>\n<path d=\"M230.4116,-83.3799C251.1989,-73.3488 275.7067,-61.5224 297.4279,-51.0406\" fill=\"none\" stroke=\"#000000\"/>\n<polygon fill=\"#000000\" points=\"299.0622,-54.1382 306.5473,-46.6399 296.02,-47.8338 299.0622,-54.1382\" stroke=\"#000000\"/>\n</g>\n<!-- 140202523256464&#45;&gt;140202229650768 -->\n<g class=\"edge\" id=\"edge6\">\n<title>140202523256464-&gt;140202229650768</title>\n<path d=\"M482.1956,-83.3799C460.7086,-73.304 435.3586,-61.4167 412.932,-50.9003\" fill=\"none\" stroke=\"#000000\"/>\n<polygon fill=\"#000000\" points=\"414.3866,-47.7168 403.8466,-46.6399 411.4146,-54.0545 414.3866,-47.7168\" stroke=\"#000000\"/>\n</g>\n</g>\n</svg>"
          },
          "metadata": {},
          "execution_count": 10
        }
      ]
    },
    {
      "cell_type": "code",
      "source": [
        "model.summary()"
      ],
      "metadata": {
        "colab": {
          "base_uri": "https://localhost:8080/"
        },
        "id": "GYykSMOHWiA6",
        "outputId": "b7e08875-1246-4685-d8b0-8b387ad62138"
      },
      "execution_count": null,
      "outputs": [
        {
          "output_type": "stream",
          "name": "stdout",
          "text": [
            "Model: \"model\"\n",
            "__________________________________________________________________________________________________\n",
            " Layer (type)                   Output Shape         Param #     Connected to                     \n",
            "==================================================================================================\n",
            " User_Input (InputLayer)        [(None, 1)]          0           []                               \n",
            "                                                                                                  \n",
            " Movie_Input (InputLayer)       [(None, 1)]          0           []                               \n",
            "                                                                                                  \n",
            " User_Embedding (Embedding)     (None, 1, 50)        302000      ['User_Input[0][0]']             \n",
            "                                                                                                  \n",
            " Movie_Embedding (Embedding)    (None, 1, 50)        185300      ['Movie_Input[0][0]']            \n",
            "                                                                                                  \n",
            " User_Vector (Flatten)          (None, 50)           0           ['User_Embedding[0][0]']         \n",
            "                                                                                                  \n",
            " Movie_Vector (Flatten)         (None, 50)           0           ['Movie_Embedding[0][0]']        \n",
            "                                                                                                  \n",
            " Dot_Product (Dot)              (None, 1)            0           ['User_Vector[0][0]',            \n",
            "                                                                  'Movie_Vector[0][0]']           \n",
            "                                                                                                  \n",
            "==================================================================================================\n",
            "Total params: 487,300\n",
            "Trainable params: 487,300\n",
            "Non-trainable params: 0\n",
            "__________________________________________________________________________________________________\n"
          ]
        }
      ]
    },
    {
      "cell_type": "code",
      "source": [
        "optimizer = Adam(learning_rate = 0.0001)\n",
        "\n",
        "model.compile(loss='mean_squared_error', optimizer = optimizer)"
      ],
      "metadata": {
        "id": "dDaFQ8siWjnO"
      },
      "execution_count": null,
      "outputs": []
    },
    {
      "cell_type": "code",
      "source": [
        "batch_size = 128\n",
        "epochs = 20"
      ],
      "metadata": {
        "id": "vUEphYIYWlq4"
      },
      "execution_count": null,
      "outputs": []
    },
    {
      "cell_type": "code",
      "source": [
        "history = model.fit(x=[x_train['userid'], x_train['movieid']], y=y_train, batch_size= batch_size, epochs=epochs, \n",
        "                    verbose= 2, validation_data=([x_test['userid'], x_test['movieid']], y_test))"
      ],
      "metadata": {
        "colab": {
          "base_uri": "https://localhost:8080/"
        },
        "id": "cWwowWyOWnGR",
        "outputId": "44c2a74a-74ec-4059-aea0-67a31c92610e"
      },
      "execution_count": null,
      "outputs": [
        {
          "output_type": "stream",
          "name": "stdout",
          "text": [
            "Epoch 1/20\n",
            "7033/7033 - 22s - loss: 13.9797 - val_loss: 13.3836 - 22s/epoch - 3ms/step\n",
            "Epoch 2/20\n",
            "7033/7033 - 19s - loss: 9.6727 - val_loss: 5.5540 - 19s/epoch - 3ms/step\n",
            "Epoch 3/20\n",
            "7033/7033 - 19s - loss: 3.5650 - val_loss: 2.4779 - 19s/epoch - 3ms/step\n",
            "Epoch 4/20\n",
            "7033/7033 - 20s - loss: 2.0252 - val_loss: 1.7525 - 20s/epoch - 3ms/step\n",
            "Epoch 5/20\n",
            "7033/7033 - 19s - loss: 1.5939 - val_loss: 1.5064 - 19s/epoch - 3ms/step\n",
            "Epoch 6/20\n",
            "7033/7033 - 19s - loss: 1.4359 - val_loss: 1.4052 - 19s/epoch - 3ms/step\n",
            "Epoch 7/20\n",
            "7033/7033 - 19s - loss: 1.3680 - val_loss: 1.3586 - 19s/epoch - 3ms/step\n",
            "Epoch 8/20\n",
            "7033/7033 - 20s - loss: 1.3354 - val_loss: 1.3345 - 20s/epoch - 3ms/step\n",
            "Epoch 9/20\n",
            "7033/7033 - 19s - loss: 1.3178 - val_loss: 1.3214 - 19s/epoch - 3ms/step\n",
            "Epoch 10/20\n",
            "7033/7033 - 19s - loss: 1.3067 - val_loss: 1.3123 - 19s/epoch - 3ms/step\n",
            "Epoch 11/20\n",
            "7033/7033 - 20s - loss: 1.2984 - val_loss: 1.3056 - 20s/epoch - 3ms/step\n",
            "Epoch 12/20\n",
            "7033/7033 - 19s - loss: 1.2915 - val_loss: 1.3002 - 19s/epoch - 3ms/step\n",
            "Epoch 13/20\n",
            "7033/7033 - 19s - loss: 1.2851 - val_loss: 1.2946 - 19s/epoch - 3ms/step\n",
            "Epoch 14/20\n",
            "7033/7033 - 19s - loss: 1.2788 - val_loss: 1.2900 - 19s/epoch - 3ms/step\n",
            "Epoch 15/20\n",
            "7033/7033 - 19s - loss: 1.2726 - val_loss: 1.2852 - 19s/epoch - 3ms/step\n",
            "Epoch 16/20\n",
            "7033/7033 - 19s - loss: 1.2663 - val_loss: 1.2800 - 19s/epoch - 3ms/step\n",
            "Epoch 17/20\n",
            "7033/7033 - 19s - loss: 1.2598 - val_loss: 1.2748 - 19s/epoch - 3ms/step\n",
            "Epoch 18/20\n",
            "7033/7033 - 19s - loss: 1.2533 - val_loss: 1.2704 - 19s/epoch - 3ms/step\n",
            "Epoch 19/20\n",
            "7033/7033 - 19s - loss: 1.2466 - val_loss: 1.2651 - 19s/epoch - 3ms/step\n",
            "Epoch 20/20\n",
            "7033/7033 - 19s - loss: 1.2401 - val_loss: 1.2608 - 19s/epoch - 3ms/step\n"
          ]
        }
      ]
    },
    {
      "cell_type": "code",
      "source": [
        "# Get training and test loss histories\n",
        "training_loss = history.history['loss']\n",
        "test_loss = history.history['val_loss']\n",
        "\n",
        "# Create count of the number of epochs\n",
        "epoch_count = range(1, len(training_loss) + 1)\n",
        "\n",
        "# Visualize loss history\n",
        "plt.figure(figsize = (8,4))\n",
        "plt.plot(epoch_count, training_loss, 'r--')\n",
        "plt.plot(epoch_count, test_loss, 'b-')\n",
        "plt.legend(['Training Loss', 'Test Loss'])\n",
        "plt.xlabel('Epoch')\n",
        "plt.ylabel('Loss')\n",
        "plt.show()\n"
      ],
      "metadata": {
        "id": "kSPl7GvjWpzY",
        "colab": {
          "base_uri": "https://localhost:8080/",
          "height": 279
        },
        "outputId": "a10e5f62-d19f-4565-8080-64aabe4470ac"
      },
      "execution_count": null,
      "outputs": [
        {
          "output_type": "display_data",
          "data": {
            "text/plain": [
              "<Figure size 576x288 with 1 Axes>"
            ],
            "image/png": "[encoded data removed]"
          },
          "metadata": {
            "needs_background": "light"
          }
        }
      ]
    },
    {
      "cell_type": "code",
      "source": [
        "score = model.evaluate([x_test['userid'], x_test['movieid']], y_test)\n",
        "print()\n",
        "print('RMSE: {:.4f}'.format(np.sqrt(score)))"
      ],
      "metadata": {
        "id": "RuBihNRDWsBn",
        "colab": {
          "base_uri": "https://localhost:8080/"
        },
        "outputId": "d9e2e405-b50c-4c52-e68f-8371b0222707"
      },
      "execution_count": null,
      "outputs": [
        {
          "output_type": "stream",
          "name": "stdout",
          "text": [
            "3126/3126 [==============================] - 5s 2ms/step - loss: 1.2608\n",
            "\n",
            "RMSE: 1.1229\n"
          ]
        }
      ]
    },
    {
      "cell_type": "code",
      "source": [
        "# Model Architecture\n",
        "\n",
        "\n",
        "# User Embeddings\n",
        "user_input = Input(shape=(1,), name='User_Input')\n",
        "user_embeddings = Embedding(input_dim = n_users, output_dim=n_latent_factors, input_length=1, \n",
        "                              name='User_Embedding') (user_input)\n",
        "user_vector = Flatten(name='User_Vector') (user_embeddings)\n",
        "\n",
        "\n",
        "\n",
        "# Movie Embeddings\n",
        "movie_input = Input(shape=(1,), name='Movie_Input')\n",
        "movie_embeddings = Embedding(input_dim = n_movies, output_dim=n_latent_factors, input_length=1, \n",
        "                               name='Movie_Embedding') (movie_input)\n",
        "movie_vector = Flatten(name='Movie_Vector') (movie_embeddings)\n",
        "\n",
        "\n",
        "\n",
        "\n",
        "# Concatenate Product\n",
        "merged_vectors = concatenate([user_vector, movie_vector], name='Concantenate')\n",
        "dense_layer_1 = Dense(100, activation='relu')(merged_vectors) \n",
        "\n",
        "\n",
        "\n",
        "result = Dense(1)(dense_layer_1)\n",
        "model = Model([user_input, movie_input], result)"
      ],
      "metadata": {
        "id": "O7tcVGGjW1sV"
      },
      "execution_count": null,
      "outputs": []
    },
    {
      "cell_type": "code",
      "source": [
        "SVG(model_to_dot( model,  show_shapes=True, show_layer_names=True).create(prog='dot', format='svg'))"
      ],
      "metadata": {
        "id": "E0zQsSbYW_tn",
        "colab": {
          "base_uri": "https://localhost:8080/",
          "height": 877
        },
        "outputId": "fff77df3-ef05-4460-b90b-d8718e3cc257"
      },
      "execution_count": null,
      "outputs": [
        {
          "output_type": "execute_result",
          "data": {
            "text/plain": [
              "<IPython.core.display.SVG object>"
            ],
            "image/svg+xml": "<svg height=\"627pt\" viewBox=\"0.00 0.00 722.50 470.00\" width=\"963pt\" xmlns=\"http://www.w3.org/2000/svg\" xmlns:xlink=\"http://www.w3.org/1999/xlink\">\n<g class=\"graph\" id=\"graph0\" transform=\"scale(1.3333 1.3333) rotate(0) translate(4 466)\">\n<title>G</title>\n<polygon fill=\"#ffffff\" points=\"-4,4 -4,-466 718.5,-466 718.5,4 -4,4\" stroke=\"transparent\"/>\n<!-- 140204712439696 -->\n<g class=\"node\" id=\"node1\">\n<title>140204712439696</title>\n<polygon fill=\"none\" points=\"21,-415.5 21,-461.5 322,-461.5 322,-415.5 21,-415.5\" stroke=\"#000000\"/>\n<text fill=\"#000000\" font-family=\"Times,serif\" font-size=\"14.00\" text-anchor=\"middle\" x=\"61.5\" y=\"-446.3\">User_Input</text>\n<polyline fill=\"none\" points=\"21,-438.5 102,-438.5 \" stroke=\"#000000\"/>\n<text fill=\"#000000\" font-family=\"Times,serif\" font-size=\"14.00\" text-anchor=\"middle\" x=\"61.5\" y=\"-423.3\">InputLayer</text>\n<polyline fill=\"none\" points=\"102,-415.5 102,-461.5 \" stroke=\"#000000\"/>\n<text fill=\"#000000\" font-family=\"Times,serif\" font-size=\"14.00\" text-anchor=\"middle\" x=\"131\" y=\"-446.3\">input:</text>\n<polyline fill=\"none\" points=\"102,-438.5 160,-438.5 \" stroke=\"#000000\"/>\n<text fill=\"#000000\" font-family=\"Times,serif\" font-size=\"14.00\" text-anchor=\"middle\" x=\"131\" y=\"-423.3\">output:</text>\n<polyline fill=\"none\" points=\"160,-415.5 160,-461.5 \" stroke=\"#000000\"/>\n<text fill=\"#000000\" font-family=\"Times,serif\" font-size=\"14.00\" text-anchor=\"middle\" x=\"200.5\" y=\"-434.8\">[(None, 1)]</text>\n<polyline fill=\"none\" points=\"241,-415.5 241,-461.5 \" stroke=\"#000000\"/>\n<text fill=\"#000000\" font-family=\"Times,serif\" font-size=\"14.00\" text-anchor=\"middle\" x=\"281.5\" y=\"-434.8\">[(None, 1)]</text>\n</g>\n<!-- 140200424058064 -->\n<g class=\"node\" id=\"node3\">\n<title>140200424058064</title>\n<polygon fill=\"none\" points=\"0,-332.5 0,-378.5 343,-378.5 343,-332.5 0,-332.5\" stroke=\"#000000\"/>\n<text fill=\"#000000\" font-family=\"Times,serif\" font-size=\"14.00\" text-anchor=\"middle\" x=\"59\" y=\"-363.3\">User_Embedding</text>\n<polyline fill=\"none\" points=\"0,-355.5 118,-355.5 \" stroke=\"#000000\"/>\n<text fill=\"#000000\" font-family=\"Times,serif\" font-size=\"14.00\" text-anchor=\"middle\" x=\"59\" y=\"-340.3\">Embedding</text>\n<polyline fill=\"none\" points=\"118,-332.5 118,-378.5 \" stroke=\"#000000\"/>\n<text fill=\"#000000\" font-family=\"Times,serif\" font-size=\"14.00\" text-anchor=\"middle\" x=\"147\" y=\"-363.3\">input:</text>\n<polyline fill=\"none\" points=\"118,-355.5 176,-355.5 \" stroke=\"#000000\"/>\n<text fill=\"#000000\" font-family=\"Times,serif\" font-size=\"14.00\" text-anchor=\"middle\" x=\"147\" y=\"-340.3\">output:</text>\n<polyline fill=\"none\" points=\"176,-332.5 176,-378.5 \" stroke=\"#000000\"/>\n<text fill=\"#000000\" font-family=\"Times,serif\" font-size=\"14.00\" text-anchor=\"middle\" x=\"212\" y=\"-351.8\">(None, 1)</text>\n<polyline fill=\"none\" points=\"248,-332.5 248,-378.5 \" stroke=\"#000000\"/>\n<text fill=\"#000000\" font-family=\"Times,serif\" font-size=\"14.00\" text-anchor=\"middle\" x=\"295.5\" y=\"-351.8\">(None, 1, 50)</text>\n</g>\n<!-- 140204712439696&#45;&gt;140200424058064 -->\n<g class=\"edge\" id=\"edge1\">\n<title>140204712439696-&gt;140200424058064</title>\n<path d=\"M171.5,-415.3799C171.5,-407.1745 171.5,-397.7679 171.5,-388.8786\" fill=\"none\" stroke=\"#000000\"/>\n<polygon fill=\"#000000\" points=\"175.0001,-388.784 171.5,-378.784 168.0001,-388.784 175.0001,-388.784\" stroke=\"#000000\"/>\n</g>\n<!-- 140202553227600 -->\n<g class=\"node\" id=\"node2\">\n<title>140202553227600</title>\n<polygon fill=\"none\" points=\"381.5,-415.5 381.5,-461.5 693.5,-461.5 693.5,-415.5 381.5,-415.5\" stroke=\"#000000\"/>\n<text fill=\"#000000\" font-family=\"Times,serif\" font-size=\"14.00\" text-anchor=\"middle\" x=\"427.5\" y=\"-446.3\">Movie_Input</text>\n<polyline fill=\"none\" points=\"381.5,-438.5 473.5,-438.5 \" stroke=\"#000000\"/>\n<text fill=\"#000000\" font-family=\"Times,serif\" font-size=\"14.00\" text-anchor=\"middle\" x=\"427.5\" y=\"-423.3\">InputLayer</text>\n<polyline fill=\"none\" points=\"473.5,-415.5 473.5,-461.5 \" stroke=\"#000000\"/>\n<text fill=\"#000000\" font-family=\"Times,serif\" font-size=\"14.00\" text-anchor=\"middle\" x=\"502.5\" y=\"-446.3\">input:</text>\n<polyline fill=\"none\" points=\"473.5,-438.5 531.5,-438.5 \" stroke=\"#000000\"/>\n<text fill=\"#000000\" font-family=\"Times,serif\" font-size=\"14.00\" text-anchor=\"middle\" x=\"502.5\" y=\"-423.3\">output:</text>\n<polyline fill=\"none\" points=\"531.5,-415.5 531.5,-461.5 \" stroke=\"#000000\"/>\n<text fill=\"#000000\" font-family=\"Times,serif\" font-size=\"14.00\" text-anchor=\"middle\" x=\"572\" y=\"-434.8\">[(None, 1)]</text>\n<polyline fill=\"none\" points=\"612.5,-415.5 612.5,-461.5 \" stroke=\"#000000\"/>\n<text fill=\"#000000\" font-family=\"Times,serif\" font-size=\"14.00\" text-anchor=\"middle\" x=\"653\" y=\"-434.8\">[(None, 1)]</text>\n</g>\n<!-- 140204707609168 -->\n<g class=\"node\" id=\"node4\">\n<title>140204707609168</title>\n<polygon fill=\"none\" points=\"360.5,-332.5 360.5,-378.5 714.5,-378.5 714.5,-332.5 360.5,-332.5\" stroke=\"#000000\"/>\n<text fill=\"#000000\" font-family=\"Times,serif\" font-size=\"14.00\" text-anchor=\"middle\" x=\"425\" y=\"-363.3\">Movie_Embedding</text>\n<polyline fill=\"none\" points=\"360.5,-355.5 489.5,-355.5 \" stroke=\"#000000\"/>\n<text fill=\"#000000\" font-family=\"Times,serif\" font-size=\"14.00\" text-anchor=\"middle\" x=\"425\" y=\"-340.3\">Embedding</text>\n<polyline fill=\"none\" points=\"489.5,-332.5 489.5,-378.5 \" stroke=\"#000000\"/>\n<text fill=\"#000000\" font-family=\"Times,serif\" font-size=\"14.00\" text-anchor=\"middle\" x=\"518.5\" y=\"-363.3\">input:</text>\n<polyline fill=\"none\" points=\"489.5,-355.5 547.5,-355.5 \" stroke=\"#000000\"/>\n<text fill=\"#000000\" font-family=\"Times,serif\" font-size=\"14.00\" text-anchor=\"middle\" x=\"518.5\" y=\"-340.3\">output:</text>\n<polyline fill=\"none\" points=\"547.5,-332.5 547.5,-378.5 \" stroke=\"#000000\"/>\n<text fill=\"#000000\" font-family=\"Times,serif\" font-size=\"14.00\" text-anchor=\"middle\" x=\"583.5\" y=\"-351.8\">(None, 1)</text>\n<polyline fill=\"none\" points=\"619.5,-332.5 619.5,-378.5 \" stroke=\"#000000\"/>\n<text fill=\"#000000\" font-family=\"Times,serif\" font-size=\"14.00\" text-anchor=\"middle\" x=\"667\" y=\"-351.8\">(None, 1, 50)</text>\n</g>\n<!-- 140202553227600&#45;&gt;140204707609168 -->\n<g class=\"edge\" id=\"edge2\">\n<title>140202553227600-&gt;140204707609168</title>\n<path d=\"M537.5,-415.3799C537.5,-407.1745 537.5,-397.7679 537.5,-388.8786\" fill=\"none\" stroke=\"#000000\"/>\n<polygon fill=\"#000000\" points=\"541.0001,-388.784 537.5,-378.784 534.0001,-388.784 541.0001,-388.784\" stroke=\"#000000\"/>\n</g>\n<!-- 140202229368464 -->\n<g class=\"node\" id=\"node5\">\n<title>140202229368464</title>\n<polygon fill=\"none\" points=\"22.5,-249.5 22.5,-295.5 342.5,-295.5 342.5,-249.5 22.5,-249.5\" stroke=\"#000000\"/>\n<text fill=\"#000000\" font-family=\"Times,serif\" font-size=\"14.00\" text-anchor=\"middle\" x=\"66\" y=\"-280.3\">User_Vector</text>\n<polyline fill=\"none\" points=\"22.5,-272.5 109.5,-272.5 \" stroke=\"#000000\"/>\n<text fill=\"#000000\" font-family=\"Times,serif\" font-size=\"14.00\" text-anchor=\"middle\" x=\"66\" y=\"-257.3\">Flatten</text>\n<polyline fill=\"none\" points=\"109.5,-249.5 109.5,-295.5 \" stroke=\"#000000\"/>\n<text fill=\"#000000\" font-family=\"Times,serif\" font-size=\"14.00\" text-anchor=\"middle\" x=\"138.5\" y=\"-280.3\">input:</text>\n<polyline fill=\"none\" points=\"109.5,-272.5 167.5,-272.5 \" stroke=\"#000000\"/>\n<text fill=\"#000000\" font-family=\"Times,serif\" font-size=\"14.00\" text-anchor=\"middle\" x=\"138.5\" y=\"-257.3\">output:</text>\n<polyline fill=\"none\" points=\"167.5,-249.5 167.5,-295.5 \" stroke=\"#000000\"/>\n<text fill=\"#000000\" font-family=\"Times,serif\" font-size=\"14.00\" text-anchor=\"middle\" x=\"215\" y=\"-268.8\">(None, 1, 50)</text>\n<polyline fill=\"none\" points=\"262.5,-249.5 262.5,-295.5 \" stroke=\"#000000\"/>\n<text fill=\"#000000\" font-family=\"Times,serif\" font-size=\"14.00\" text-anchor=\"middle\" x=\"302.5\" y=\"-268.8\">(None, 50)</text>\n</g>\n<!-- 140200424058064&#45;&gt;140202229368464 -->\n<g class=\"edge\" id=\"edge3\">\n<title>140200424058064-&gt;140202229368464</title>\n<path d=\"M174.5641,-332.3799C175.6516,-324.1745 176.8982,-314.7679 178.0763,-305.8786\" fill=\"none\" stroke=\"#000000\"/>\n<polygon fill=\"#000000\" points=\"181.5699,-306.1572 179.4142,-295.784 174.6306,-305.2375 181.5699,-306.1572\" stroke=\"#000000\"/>\n</g>\n<!-- 140200422507664 -->\n<g class=\"node\" id=\"node6\">\n<title>140200422507664</title>\n<polygon fill=\"none\" points=\"366,-249.5 366,-295.5 697,-295.5 697,-249.5 366,-249.5\" stroke=\"#000000\"/>\n<text fill=\"#000000\" font-family=\"Times,serif\" font-size=\"14.00\" text-anchor=\"middle\" x=\"415\" y=\"-280.3\">Movie_Vector</text>\n<polyline fill=\"none\" points=\"366,-272.5 464,-272.5 \" stroke=\"#000000\"/>\n<text fill=\"#000000\" font-family=\"Times,serif\" font-size=\"14.00\" text-anchor=\"middle\" x=\"415\" y=\"-257.3\">Flatten</text>\n<polyline fill=\"none\" points=\"464,-249.5 464,-295.5 \" stroke=\"#000000\"/>\n<text fill=\"#000000\" font-family=\"Times,serif\" font-size=\"14.00\" text-anchor=\"middle\" x=\"493\" y=\"-280.3\">input:</text>\n<polyline fill=\"none\" points=\"464,-272.5 522,-272.5 \" stroke=\"#000000\"/>\n<text fill=\"#000000\" font-family=\"Times,serif\" font-size=\"14.00\" text-anchor=\"middle\" x=\"493\" y=\"-257.3\">output:</text>\n<polyline fill=\"none\" points=\"522,-249.5 522,-295.5 \" stroke=\"#000000\"/>\n<text fill=\"#000000\" font-family=\"Times,serif\" font-size=\"14.00\" text-anchor=\"middle\" x=\"569.5\" y=\"-268.8\">(None, 1, 50)</text>\n<polyline fill=\"none\" points=\"617,-249.5 617,-295.5 \" stroke=\"#000000\"/>\n<text fill=\"#000000\" font-family=\"Times,serif\" font-size=\"14.00\" text-anchor=\"middle\" x=\"657\" y=\"-268.8\">(None, 50)</text>\n</g>\n<!-- 140204707609168&#45;&gt;140200422507664 -->\n<g class=\"edge\" id=\"edge4\">\n<title>140204707609168-&gt;140200422507664</title>\n<path d=\"M535.8287,-332.3799C535.2355,-324.1745 534.5555,-314.7679 533.9129,-305.8786\" fill=\"none\" stroke=\"#000000\"/>\n<polygon fill=\"#000000\" points=\"537.3952,-305.5056 533.1832,-295.784 530.4134,-306.0104 537.3952,-305.5056\" stroke=\"#000000\"/>\n</g>\n<!-- 140202229626512 -->\n<g class=\"node\" id=\"node7\">\n<title>140202229626512</title>\n<polygon fill=\"none\" points=\"155.5,-166.5 155.5,-212.5 553.5,-212.5 553.5,-166.5 155.5,-166.5\" stroke=\"#000000\"/>\n<text fill=\"#000000\" font-family=\"Times,serif\" font-size=\"14.00\" text-anchor=\"middle\" x=\"202.5\" y=\"-197.3\">Concantenate</text>\n<polyline fill=\"none\" points=\"155.5,-189.5 249.5,-189.5 \" stroke=\"#000000\"/>\n<text fill=\"#000000\" font-family=\"Times,serif\" font-size=\"14.00\" text-anchor=\"middle\" x=\"202.5\" y=\"-174.3\">Concatenate</text>\n<polyline fill=\"none\" points=\"249.5,-166.5 249.5,-212.5 \" stroke=\"#000000\"/>\n<text fill=\"#000000\" font-family=\"Times,serif\" font-size=\"14.00\" text-anchor=\"middle\" x=\"278.5\" y=\"-197.3\">input:</text>\n<polyline fill=\"none\" points=\"249.5,-189.5 307.5,-189.5 \" stroke=\"#000000\"/>\n<text fill=\"#000000\" font-family=\"Times,serif\" font-size=\"14.00\" text-anchor=\"middle\" x=\"278.5\" y=\"-174.3\">output:</text>\n<polyline fill=\"none\" points=\"307.5,-166.5 307.5,-212.5 \" stroke=\"#000000\"/>\n<text fill=\"#000000\" font-family=\"Times,serif\" font-size=\"14.00\" text-anchor=\"middle\" x=\"387\" y=\"-185.8\">[(None, 50), (None, 50)]</text>\n<polyline fill=\"none\" points=\"466.5,-166.5 466.5,-212.5 \" stroke=\"#000000\"/>\n<text fill=\"#000000\" font-family=\"Times,serif\" font-size=\"14.00\" text-anchor=\"middle\" x=\"510\" y=\"-185.8\">(None, 100)</text>\n</g>\n<!-- 140202229368464&#45;&gt;140202229626512 -->\n<g class=\"edge\" id=\"edge5\">\n<title>140202229368464-&gt;140202229626512</title>\n<path d=\"M230.4116,-249.3799C251.1989,-239.3488 275.7067,-227.5224 297.4279,-217.0406\" fill=\"none\" stroke=\"#000000\"/>\n<polygon fill=\"#000000\" points=\"299.0622,-220.1382 306.5473,-212.6399 296.02,-213.8338 299.0622,-220.1382\" stroke=\"#000000\"/>\n</g>\n<!-- 140200422507664&#45;&gt;140202229626512 -->\n<g class=\"edge\" id=\"edge6\">\n<title>140200422507664-&gt;140202229626512</title>\n<path d=\"M482.1956,-249.3799C460.7086,-239.304 435.3586,-227.4167 412.932,-216.9003\" fill=\"none\" stroke=\"#000000\"/>\n<polygon fill=\"#000000\" points=\"414.3866,-213.7168 403.8466,-212.6399 411.4146,-220.0545 414.3866,-213.7168\" stroke=\"#000000\"/>\n</g>\n<!-- 140200422359184 -->\n<g class=\"node\" id=\"node8\">\n<title>140200422359184</title>\n<polygon fill=\"none\" points=\"212.5,-83.5 212.5,-129.5 496.5,-129.5 496.5,-83.5 212.5,-83.5\" stroke=\"#000000\"/>\n<text fill=\"#000000\" font-family=\"Times,serif\" font-size=\"14.00\" text-anchor=\"middle\" x=\"238.5\" y=\"-114.3\">dense</text>\n<polyline fill=\"none\" points=\"212.5,-106.5 264.5,-106.5 \" stroke=\"#000000\"/>\n<text fill=\"#000000\" font-family=\"Times,serif\" font-size=\"14.00\" text-anchor=\"middle\" x=\"238.5\" y=\"-91.3\">Dense</text>\n<polyline fill=\"none\" points=\"264.5,-83.5 264.5,-129.5 \" stroke=\"#000000\"/>\n<text fill=\"#000000\" font-family=\"Times,serif\" font-size=\"14.00\" text-anchor=\"middle\" x=\"293.5\" y=\"-114.3\">input:</text>\n<polyline fill=\"none\" points=\"264.5,-106.5 322.5,-106.5 \" stroke=\"#000000\"/>\n<text fill=\"#000000\" font-family=\"Times,serif\" font-size=\"14.00\" text-anchor=\"middle\" x=\"293.5\" y=\"-91.3\">output:</text>\n<polyline fill=\"none\" points=\"322.5,-83.5 322.5,-129.5 \" stroke=\"#000000\"/>\n<text fill=\"#000000\" font-family=\"Times,serif\" font-size=\"14.00\" text-anchor=\"middle\" x=\"366\" y=\"-102.8\">(None, 100)</text>\n<polyline fill=\"none\" points=\"409.5,-83.5 409.5,-129.5 \" stroke=\"#000000\"/>\n<text fill=\"#000000\" font-family=\"Times,serif\" font-size=\"14.00\" text-anchor=\"middle\" x=\"453\" y=\"-102.8\">(None, 100)</text>\n</g>\n<!-- 140202229626512&#45;&gt;140200422359184 -->\n<g class=\"edge\" id=\"edge7\">\n<title>140202229626512-&gt;140200422359184</title>\n<path d=\"M354.5,-166.3799C354.5,-158.1745 354.5,-148.7679 354.5,-139.8786\" fill=\"none\" stroke=\"#000000\"/>\n<polygon fill=\"#000000\" points=\"358.0001,-139.784 354.5,-129.784 351.0001,-139.784 358.0001,-139.784\" stroke=\"#000000\"/>\n</g>\n<!-- 140204707579600 -->\n<g class=\"node\" id=\"node9\">\n<title>140204707579600</title>\n<polygon fill=\"none\" points=\"214,-.5 214,-46.5 495,-46.5 495,-.5 214,-.5\" stroke=\"#000000\"/>\n<text fill=\"#000000\" font-family=\"Times,serif\" font-size=\"14.00\" text-anchor=\"middle\" x=\"246\" y=\"-31.3\">dense_1</text>\n<polyline fill=\"none\" points=\"214,-23.5 278,-23.5 \" stroke=\"#000000\"/>\n<text fill=\"#000000\" font-family=\"Times,serif\" font-size=\"14.00\" text-anchor=\"middle\" x=\"246\" y=\"-8.3\">Dense</text>\n<polyline fill=\"none\" points=\"278,-.5 278,-46.5 \" stroke=\"#000000\"/>\n<text fill=\"#000000\" font-family=\"Times,serif\" font-size=\"14.00\" text-anchor=\"middle\" x=\"307\" y=\"-31.3\">input:</text>\n<polyline fill=\"none\" points=\"278,-23.5 336,-23.5 \" stroke=\"#000000\"/>\n<text fill=\"#000000\" font-family=\"Times,serif\" font-size=\"14.00\" text-anchor=\"middle\" x=\"307\" y=\"-8.3\">output:</text>\n<polyline fill=\"none\" points=\"336,-.5 336,-46.5 \" stroke=\"#000000\"/>\n<text fill=\"#000000\" font-family=\"Times,serif\" font-size=\"14.00\" text-anchor=\"middle\" x=\"379.5\" y=\"-19.8\">(None, 100)</text>\n<polyline fill=\"none\" points=\"423,-.5 423,-46.5 \" stroke=\"#000000\"/>\n<text fill=\"#000000\" font-family=\"Times,serif\" font-size=\"14.00\" text-anchor=\"middle\" x=\"459\" y=\"-19.8\">(None, 1)</text>\n</g>\n<!-- 140200422359184&#45;&gt;140204707579600 -->\n<g class=\"edge\" id=\"edge8\">\n<title>140200422359184-&gt;140204707579600</title>\n<path d=\"M354.5,-83.3799C354.5,-75.1745 354.5,-65.7679 354.5,-56.8786\" fill=\"none\" stroke=\"#000000\"/>\n<polygon fill=\"#000000\" points=\"358.0001,-56.784 354.5,-46.784 351.0001,-56.784 358.0001,-56.784\" stroke=\"#000000\"/>\n</g>\n</g>\n</svg>"
          },
          "metadata": {},
          "execution_count": 18
        }
      ]
    },
    {
      "cell_type": "code",
      "source": [
        "model.summary()"
      ],
      "metadata": {
        "id": "fZMLMoOnXFav",
        "colab": {
          "base_uri": "https://localhost:8080/"
        },
        "outputId": "dd79fa35-f60f-4422-c50b-ff3fbc82033a"
      },
      "execution_count": null,
      "outputs": [
        {
          "output_type": "stream",
          "name": "stdout",
          "text": [
            "Model: \"model_1\"\n",
            "__________________________________________________________________________________________________\n",
            " Layer (type)                   Output Shape         Param #     Connected to                     \n",
            "==================================================================================================\n",
            " User_Input (InputLayer)        [(None, 1)]          0           []                               \n",
            "                                                                                                  \n",
            " Movie_Input (InputLayer)       [(None, 1)]          0           []                               \n",
            "                                                                                                  \n",
            " User_Embedding (Embedding)     (None, 1, 50)        302000      ['User_Input[0][0]']             \n",
            "                                                                                                  \n",
            " Movie_Embedding (Embedding)    (None, 1, 50)        185300      ['Movie_Input[0][0]']            \n",
            "                                                                                                  \n",
            " User_Vector (Flatten)          (None, 50)           0           ['User_Embedding[0][0]']         \n",
            "                                                                                                  \n",
            " Movie_Vector (Flatten)         (None, 50)           0           ['Movie_Embedding[0][0]']        \n",
            "                                                                                                  \n",
            " Concantenate (Concatenate)     (None, 100)          0           ['User_Vector[0][0]',            \n",
            "                                                                  'Movie_Vector[0][0]']           \n",
            "                                                                                                  \n",
            " dense (Dense)                  (None, 100)          10100       ['Concantenate[0][0]']           \n",
            "                                                                                                  \n",
            " dense_1 (Dense)                (None, 1)            101         ['dense[0][0]']                  \n",
            "                                                                                                  \n",
            "==================================================================================================\n",
            "Total params: 497,501\n",
            "Trainable params: 497,501\n",
            "Non-trainable params: 0\n",
            "__________________________________________________________________________________________________\n"
          ]
        }
      ]
    },
    {
      "cell_type": "code",
      "source": [
        "optimizer = Adam(lr=0.0002)"
      ],
      "metadata": {
        "id": "9skCmyvQXI3x"
      },
      "execution_count": null,
      "outputs": []
    },
    {
      "cell_type": "code",
      "source": [
        "model.compile(loss='mean_squared_error', optimizer=optimizer)"
      ],
      "metadata": {
        "id": "fxYVSG-0XKXW"
      },
      "execution_count": null,
      "outputs": []
    },
    {
      "cell_type": "code",
      "source": [
        "batch_size = 128\n",
        "epochs = 20"
      ],
      "metadata": {
        "id": "bWpl3MxNXMGZ"
      },
      "execution_count": null,
      "outputs": []
    },
    {
      "cell_type": "code",
      "source": [
        "history = model.fit(x=[x_train['userid'], x_train['movieid']], y=y_train, batch_size= batch_size, epochs=epochs, \n",
        "                    verbose= 2, validation_data=([x_test['userid'], x_test['movieid']], y_test))"
      ],
      "metadata": {
        "id": "hGG71X8zXN5O",
        "colab": {
          "base_uri": "https://localhost:8080/"
        },
        "outputId": "41cebe18-3df4-422f-9d4e-f94aebb5dbf1"
      },
      "execution_count": null,
      "outputs": [
        {
          "output_type": "stream",
          "name": "stdout",
          "text": [
            "Epoch 1/20\n",
            "7033/7033 - 21s - loss: 1.3118 - val_loss: 0.8564 - 21s/epoch - 3ms/step\n",
            "Epoch 2/20\n",
            "7033/7033 - 21s - loss: 0.8415 - val_loss: 0.8300 - 21s/epoch - 3ms/step\n",
            "Epoch 3/20\n",
            "7033/7033 - 21s - loss: 0.8144 - val_loss: 0.8121 - 21s/epoch - 3ms/step\n",
            "Epoch 4/20\n",
            "7033/7033 - 21s - loss: 0.7972 - val_loss: 0.8019 - 21s/epoch - 3ms/step\n",
            "Epoch 5/20\n",
            "7033/7033 - 21s - loss: 0.7843 - val_loss: 0.7912 - 21s/epoch - 3ms/step\n",
            "Epoch 6/20\n",
            "7033/7033 - 21s - loss: 0.7702 - val_loss: 0.7842 - 21s/epoch - 3ms/step\n",
            "Epoch 7/20\n",
            "7033/7033 - 21s - loss: 0.7597 - val_loss: 0.7817 - 21s/epoch - 3ms/step\n",
            "Epoch 8/20\n",
            "7033/7033 - 21s - loss: 0.7519 - val_loss: 0.7797 - 21s/epoch - 3ms/step\n",
            "Epoch 9/20\n",
            "7033/7033 - 21s - loss: 0.7445 - val_loss: 0.7779 - 21s/epoch - 3ms/step\n",
            "Epoch 10/20\n",
            "7033/7033 - 21s - loss: 0.7373 - val_loss: 0.7799 - 21s/epoch - 3ms/step\n",
            "Epoch 11/20\n",
            "7033/7033 - 21s - loss: 0.7292 - val_loss: 0.7778 - 21s/epoch - 3ms/step\n",
            "Epoch 12/20\n",
            "7033/7033 - 21s - loss: 0.7200 - val_loss: 0.7800 - 21s/epoch - 3ms/step\n",
            "Epoch 13/20\n",
            "7033/7033 - 21s - loss: 0.7097 - val_loss: 0.7752 - 21s/epoch - 3ms/step\n",
            "Epoch 14/20\n",
            "7033/7033 - 21s - loss: 0.6983 - val_loss: 0.7770 - 21s/epoch - 3ms/step\n",
            "Epoch 15/20\n",
            "7033/7033 - 21s - loss: 0.6862 - val_loss: 0.7737 - 21s/epoch - 3ms/step\n",
            "Epoch 16/20\n",
            "7033/7033 - 21s - loss: 0.6746 - val_loss: 0.7746 - 21s/epoch - 3ms/step\n",
            "Epoch 17/20\n",
            "7033/7033 - 21s - loss: 0.6631 - val_loss: 0.7755 - 21s/epoch - 3ms/step\n",
            "Epoch 18/20\n",
            "7033/7033 - 21s - loss: 0.6524 - val_loss: 0.7783 - 21s/epoch - 3ms/step\n",
            "Epoch 19/20\n",
            "7033/7033 - 21s - loss: 0.6423 - val_loss: 0.7772 - 21s/epoch - 3ms/step\n",
            "Epoch 20/20\n",
            "7033/7033 - 21s - loss: 0.6329 - val_loss: 0.7804 - 21s/epoch - 3ms/step\n"
          ]
        }
      ]
    },
    {
      "cell_type": "code",
      "source": [
        "# Get training and test loss histories\n",
        "training_loss = history.history['loss']\n",
        "test_loss = history.history['val_loss']\n",
        "\n",
        "# Create count of the number of epochs\n",
        "epoch_count = range(1, len(training_loss) + 1)\n",
        "\n",
        "# Visualize loss history\n",
        "plt.figure(figsize = (8,4))\n",
        "plt.plot(epoch_count, training_loss, 'r--')\n",
        "plt.plot(epoch_count, test_loss, 'b-')\n",
        "plt.legend(['Training Loss', 'Test Loss'])\n",
        "plt.xlabel('Epoch')\n",
        "plt.ylabel('Loss')\n",
        "plt.show()"
      ],
      "metadata": {
        "colab": {
          "base_uri": "https://localhost:8080/",
          "height": 279
        },
        "id": "3mVSqNg-bbyg",
        "outputId": "4fa5d0df-12bb-4693-8976-f0539eeb6471"
      },
      "execution_count": null,
      "outputs": [
        {
          "output_type": "display_data",
          "data": {
            "text/plain": [
              "<Figure size 576x288 with 1 Axes>"
            ],
            "image/png": "[encoded data removed]"
          },
          "metadata": {
            "needs_background": "light"
          }
        }
      ]
    },
    {
      "cell_type": "code",
      "source": [
        "score = model.evaluate([x_test['userid'], x_test['movieid']], y_test)\n",
        "\n",
        "print()\n",
        "print('RMSE: {:.4f}'.format(np.sqrt(score)))"
      ],
      "metadata": {
        "colab": {
          "base_uri": "https://localhost:8080/"
        },
        "id": "uR1wyBqvDpPG",
        "outputId": "9b81a6ce-9b12-47df-e618-41f5f8d2018d"
      },
      "execution_count": null,
      "outputs": [
        {
          "output_type": "stream",
          "name": "stdout",
          "text": [
            "3126/3126 [==============================] - 6s 2ms/step - loss: 0.7804\n",
            "\n",
            "RMSE: 0.8834\n"
          ]
        }
      ]
    },
    {
      "cell_type": "code",
      "source": [
        "model.save('DMF_Model.h5')"
      ],
      "metadata": {
        "id": "4R4eczzYHVm9"
      },
      "execution_count": null,
      "outputs": []
    },
    {
      "cell_type": "code",
      "source": [
        "from keras.models import load_model\n",
        "dmf_model=load_model('DMF_Model.h5')\n",
        "dmf_model.load_weights('DMF_Model.h5')"
      ],
      "metadata": {
        "id": "-kNVaeu0Hs88"
      },
      "execution_count": null,
      "outputs": []
    },
    {
      "cell_type": "code",
      "source": [
        "def predict_rating(userid, movieid):\n",
        "    return dmf_model.predict([np.array([userid]), np.array([movieid])])[0][0]"
      ],
      "metadata": {
        "id": "pU6lItDxJKws"
      },
      "execution_count": null,
      "outputs": []
    },
    {
      "cell_type": "code",
      "source": [
        "user_ratings = ratings[ratings['userid'] == 2000][['userid', 'movieid', 'rating']]\n",
        "user_ratings['prediction'] = user_ratings.apply(lambda x: predict_rating(2000, x['movieid']), axis=1)\n",
        "user_ratings.sort_values(by='prediction', \n",
        "                         ascending=False).merge(movies, \n",
        "                                                on='movieid', \n",
        "                                                how='inner', \n",
        "                                                suffixes=['_u', '_m']).head(20)"
      ],
      "metadata": {
        "colab": {
          "base_uri": "https://localhost:8080/",
          "height": 677
        },
        "id": "oxfc3z18bojY",
        "outputId": "31bc18cd-9e9a-45a6-f5f5-15a0558b6b5b"
      },
      "execution_count": null,
      "outputs": [
        {
          "output_type": "execute_result",
          "data": {
            "text/plain": [
              "    userid  movieid  rating  prediction  \\\n",
              "0     2000      527       5    5.028045   \n",
              "1     2000      318       5    4.742787   \n",
              "2     2000     1193       5    4.742512   \n",
              "3     2000     2396       3    4.638952   \n",
              "4     2000     2501       5    4.635888   \n",
              "5     2000     2329       4    4.608972   \n",
              "6     2000     1704       4    4.547186   \n",
              "7     2000     2028       5    4.521736   \n",
              "8     2000     2324       4    4.505692   \n",
              "9     2000     2858       5    4.494328   \n",
              "10    2000     1784       4    4.485053   \n",
              "11    2000     1617       4    4.480042   \n",
              "12    2000     1358       4    4.467482   \n",
              "13    2000       50       4    4.440085   \n",
              "14    2000     2359       4    4.422964   \n",
              "15    2000      593       4    4.389745   \n",
              "16    2000        1       4    4.358817   \n",
              "17    2000     1198       4    4.327626   \n",
              "18    2000      110       5    4.326480   \n",
              "19    2000     2762       4    4.324266   \n",
              "\n",
              "                                          title  \\\n",
              "0                       Schindler's List (1993)   \n",
              "1              Shawshank Redemption, The (1994)   \n",
              "2        One Flew Over the Cuckoo's Nest (1975)   \n",
              "3                    Shakespeare in Love (1998)   \n",
              "4                            October Sky (1999)   \n",
              "5                     American History X (1998)   \n",
              "6                      Good Will Hunting (1997)   \n",
              "7                    Saving Private Ryan (1998)   \n",
              "8   Life Is Beautiful (La Vita Ã¨ bella) (1997)   \n",
              "9                        American Beauty (1999)   \n",
              "10                    As Good As It Gets (1997)   \n",
              "11                     L.A. Confidential (1997)   \n",
              "12                           Sling Blade (1996)   \n",
              "13                   Usual Suspects, The (1995)   \n",
              "14                     Waking Ned Devine (1998)   \n",
              "15             Silence of the Lambs, The (1991)   \n",
              "16                             Toy Story (1995)   \n",
              "17               Raiders of the Lost Ark (1981)   \n",
              "18                            Braveheart (1995)   \n",
              "19                      Sixth Sense, The (1999)   \n",
              "\n",
              "                               genre  \n",
              "0                          Drama|War  \n",
              "1                              Drama  \n",
              "2                              Drama  \n",
              "3                     Comedy|Romance  \n",
              "4                              Drama  \n",
              "5                              Drama  \n",
              "6                              Drama  \n",
              "7                   Action|Drama|War  \n",
              "8                       Comedy|Drama  \n",
              "9                       Comedy|Drama  \n",
              "10                      Comedy|Drama  \n",
              "11  Crime|Film-Noir|Mystery|Thriller  \n",
              "12                    Drama|Thriller  \n",
              "13                    Crime|Thriller  \n",
              "14                            Comedy  \n",
              "15                    Drama|Thriller  \n",
              "16       Animation|Children's|Comedy  \n",
              "17                  Action|Adventure  \n",
              "18                  Action|Drama|War  \n",
              "19                          Thriller  "
            ],
            "text/html": [
              "\n",
              "  <div id=\"df-1e4eeaed-dbdb-481e-99bf-784b81881194\">\n",
              "    <div class=\"colab-df-container\">\n",
              "      <div>\n",
              "<style scoped>\n",
              "    .dataframe tbody tr th:only-of-type {\n",
              "        vertical-align: middle;\n",
              "    }\n",
              "\n",
              "    .dataframe tbody tr th {\n",
              "        vertical-align: top;\n",
              "    }\n",
              "\n",
              "    .dataframe thead th {\n",
              "        text-align: right;\n",
              "    }\n",
              "</style>\n",
              "<table border=\"1\" class=\"dataframe\">\n",
              "  <thead>\n",
              "    <tr style=\"text-align: right;\">\n",
              "      <th></th>\n",
              "      <th>userid</th>\n",
              "      <th>movieid</th>\n",
              "      <th>rating</th>\n",
              "      <th>prediction</th>\n",
              "      <th>title</th>\n",
              "      <th>genre</th>\n",
              "    </tr>\n",
              "  </thead>\n",
              "  <tbody>\n",
              "    <tr>\n",
              "      <th>0</th>\n",
              "      <td>2000</td>\n",
              "      <td>527</td>\n",
              "      <td>5</td>\n",
              "      <td>5.028045</td>\n",
              "      <td>Schindler's List (1993)</td>\n",
              "      <td>Drama|War</td>\n",
              "    </tr>\n",
              "    <tr>\n",
              "      <th>1</th>\n",
              "      <td>2000</td>\n",
              "      <td>318</td>\n",
              "      <td>5</td>\n",
              "      <td>4.742787</td>\n",
              "      <td>Shawshank Redemption, The (1994)</td>\n",
              "      <td>Drama</td>\n",
              "    </tr>\n",
              "    <tr>\n",
              "      <th>2</th>\n",
              "      <td>2000</td>\n",
              "      <td>1193</td>\n",
              "      <td>5</td>\n",
              "      <td>4.742512</td>\n",
              "      <td>One Flew Over the Cuckoo's Nest (1975)</td>\n",
              "      <td>Drama</td>\n",
              "    </tr>\n",
              "    <tr>\n",
              "      <th>3</th>\n",
              "      <td>2000</td>\n",
              "      <td>2396</td>\n",
              "      <td>3</td>\n",
              "      <td>4.638952</td>\n",
              "      <td>Shakespeare in Love (1998)</td>\n",
              "      <td>Comedy|Romance</td>\n",
              "    </tr>\n",
              "    <tr>\n",
              "      <th>4</th>\n",
              "      <td>2000</td>\n",
              "      <td>2501</td>\n",
              "      <td>5</td>\n",
              "      <td>4.635888</td>\n",
              "      <td>October Sky (1999)</td>\n",
              "      <td>Drama</td>\n",
              "    </tr>\n",
              "    <tr>\n",
              "      <th>5</th>\n",
              "      <td>2000</td>\n",
              "      <td>2329</td>\n",
              "      <td>4</td>\n",
              "      <td>4.608972</td>\n",
              "      <td>American History X (1998)</td>\n",
              "      <td>Drama</td>\n",
              "    </tr>\n",
              "    <tr>\n",
              "      <th>6</th>\n",
              "      <td>2000</td>\n",
              "      <td>1704</td>\n",
              "      <td>4</td>\n",
              "      <td>4.547186</td>\n",
              "      <td>Good Will Hunting (1997)</td>\n",
              "      <td>Drama</td>\n",
              "    </tr>\n",
              "    <tr>\n",
              "      <th>7</th>\n",
              "      <td>2000</td>\n",
              "      <td>2028</td>\n",
              "      <td>5</td>\n",
              "      <td>4.521736</td>\n",
              "      <td>Saving Private Ryan (1998)</td>\n",
              "      <td>Action|Drama|War</td>\n",
              "    </tr>\n",
              "    <tr>\n",
              "      <th>8</th>\n",
              "      <td>2000</td>\n",
              "      <td>2324</td>\n",
              "      <td>4</td>\n",
              "      <td>4.505692</td>\n",
              "      <td>Life Is Beautiful (La Vita Ã¨ bella) (1997)</td>\n",
              "      <td>Comedy|Drama</td>\n",
              "    </tr>\n",
              "    <tr>\n",
              "      <th>9</th>\n",
              "      <td>2000</td>\n",
              "      <td>2858</td>\n",
              "      <td>5</td>\n",
              "      <td>4.494328</td>\n",
              "      <td>American Beauty (1999)</td>\n",
              "      <td>Comedy|Drama</td>\n",
              "    </tr>\n",
              "    <tr>\n",
              "      <th>10</th>\n",
              "      <td>2000</td>\n",
              "      <td>1784</td>\n",
              "      <td>4</td>\n",
              "      <td>4.485053</td>\n",
              "      <td>As Good As It Gets (1997)</td>\n",
              "      <td>Comedy|Drama</td>\n",
              "    </tr>\n",
              "    <tr>\n",
              "      <th>11</th>\n",
              "      <td>2000</td>\n",
              "      <td>1617</td>\n",
              "      <td>4</td>\n",
              "      <td>4.480042</td>\n",
              "      <td>L.A. Confidential (1997)</td>\n",
              "      <td>Crime|Film-Noir|Mystery|Thriller</td>\n",
              "    </tr>\n",
              "    <tr>\n",
              "      <th>12</th>\n",
              "      <td>2000</td>\n",
              "      <td>1358</td>\n",
              "      <td>4</td>\n",
              "      <td>4.467482</td>\n",
              "      <td>Sling Blade (1996)</td>\n",
              "      <td>Drama|Thriller</td>\n",
              "    </tr>\n",
              "    <tr>\n",
              "      <th>13</th>\n",
              "      <td>2000</td>\n",
              "      <td>50</td>\n",
              "      <td>4</td>\n",
              "      <td>4.440085</td>\n",
              "      <td>Usual Suspects, The (1995)</td>\n",
              "      <td>Crime|Thriller</td>\n",
              "    </tr>\n",
              "    <tr>\n",
              "      <th>14</th>\n",
              "      <td>2000</td>\n",
              "      <td>2359</td>\n",
              "      <td>4</td>\n",
              "      <td>4.422964</td>\n",
              "      <td>Waking Ned Devine (1998)</td>\n",
              "      <td>Comedy</td>\n",
              "    </tr>\n",
              "    <tr>\n",
              "      <th>15</th>\n",
              "      <td>2000</td>\n",
              "      <td>593</td>\n",
              "      <td>4</td>\n",
              "      <td>4.389745</td>\n",
              "      <td>Silence of the Lambs, The (1991)</td>\n",
              "      <td>Drama|Thriller</td>\n",
              "    </tr>\n",
              "    <tr>\n",
              "      <th>16</th>\n",
              "      <td>2000</td>\n",
              "      <td>1</td>\n",
              "      <td>4</td>\n",
              "      <td>4.358817</td>\n",
              "      <td>Toy Story (1995)</td>\n",
              "      <td>Animation|Children's|Comedy</td>\n",
              "    </tr>\n",
              "    <tr>\n",
              "      <th>17</th>\n",
              "      <td>2000</td>\n",
              "      <td>1198</td>\n",
              "      <td>4</td>\n",
              "      <td>4.327626</td>\n",
              "      <td>Raiders of the Lost Ark (1981)</td>\n",
              "      <td>Action|Adventure</td>\n",
              "    </tr>\n",
              "    <tr>\n",
              "      <th>18</th>\n",
              "      <td>2000</td>\n",
              "      <td>110</td>\n",
              "      <td>5</td>\n",
              "      <td>4.326480</td>\n",
              "      <td>Braveheart (1995)</td>\n",
              "      <td>Action|Drama|War</td>\n",
              "    </tr>\n",
              "    <tr>\n",
              "      <th>19</th>\n",
              "      <td>2000</td>\n",
              "      <td>2762</td>\n",
              "      <td>4</td>\n",
              "      <td>4.324266</td>\n",
              "      <td>Sixth Sense, The (1999)</td>\n",
              "      <td>Thriller</td>\n",
              "    </tr>\n",
              "  </tbody>\n",
              "</table>\n",
              "</div>\n",
              "      <button class=\"colab-df-convert\" onclick=\"convertToInteractive('df-1e4eeaed-dbdb-481e-99bf-784b81881194')\"\n",
              "              title=\"Convert this dataframe to an interactive table.\"\n",
              "              style=\"display:none;\">\n",
              "        \n",
              "  <svg xmlns=\"http://www.w3.org/2000/svg\" height=\"24px\"viewBox=\"0 0 24 24\"\n",
              "       width=\"24px\">\n",
              "    <path d=\"M0 0h24v24H0V0z\" fill=\"none\"/>\n",
              "    <path d=\"M18.56 5.44l.94 2.06.94-2.06 2.06-.94-2.06-.94-.94-2.06-.94 2.06-2.06.94zm-11 1L8.5 8.5l.94-2.06 2.06-.94-2.06-.94L8.5 2.5l-.94 2.06-2.06.94zm10 10l.94 2.06.94-2.06 2.06-.94-2.06-.94-.94-2.06-.94 2.06-2.06.94z\"/><path d=\"M17.41 7.96l-1.37-1.37c-.4-.4-.92-.59-1.43-.59-.52 0-1.04.2-1.43.59L10.3 9.45l-7.72 7.72c-.78.78-.78 2.05 0 2.83L4 21.41c.39.39.9.59 1.41.59.51 0 1.02-.2 1.41-.59l7.78-7.78 2.81-2.81c.8-.78.8-2.07 0-2.86zM5.41 20L4 18.59l7.72-7.72 1.47 1.35L5.41 20z\"/>\n",
              "  </svg>\n",
              "      </button>\n",
              "      \n",
              "  <style>\n",
              "    .colab-df-container {\n",
              "      display:flex;\n",
              "      flex-wrap:wrap;\n",
              "      gap: 12px;\n",
              "    }\n",
              "\n",
              "    .colab-df-convert {\n",
              "      background-color: #E8F0FE;\n",
              "      border: none;\n",
              "      border-radius: 50%;\n",
              "      cursor: pointer;\n",
              "      display: none;\n",
              "      fill: #1967D2;\n",
              "      height: 32px;\n",
              "      padding: 0 0 0 0;\n",
              "      width: 32px;\n",
              "    }\n",
              "\n",
              "    .colab-df-convert:hover {\n",
              "      background-color: #E2EBFA;\n",
              "      box-shadow: 0px 1px 2px rgba(60, 64, 67, 0.3), 0px 1px 3px 1px rgba(60, 64, 67, 0.15);\n",
              "      fill: #174EA6;\n",
              "    }\n",
              "\n",
              "    [theme=dark] .colab-df-convert {\n",
              "      background-color: #3B4455;\n",
              "      fill: #D2E3FC;\n",
              "    }\n",
              "\n",
              "    [theme=dark] .colab-df-convert:hover {\n",
              "      background-color: #434B5C;\n",
              "      box-shadow: 0px 1px 3px 1px rgba(0, 0, 0, 0.15);\n",
              "      filter: drop-shadow(0px 1px 2px rgba(0, 0, 0, 0.3));\n",
              "      fill: #FFFFFF;\n",
              "    }\n",
              "  </style>\n",
              "\n",
              "      <script>\n",
              "        const buttonEl =\n",
              "          document.querySelector('#df-1e4eeaed-dbdb-481e-99bf-784b81881194 button.colab-df-convert');\n",
              "        buttonEl.style.display =\n",
              "          google.colab.kernel.accessAllowed ? 'block' : 'none';\n",
              "\n",
              "        async function convertToInteractive(key) {\n",
              "          const element = document.querySelector('#df-1e4eeaed-dbdb-481e-99bf-784b81881194');\n",
              "          const dataTable =\n",
              "            await google.colab.kernel.invokeFunction('convertToInteractive',\n",
              "                                                     [key], {});\n",
              "          if (!dataTable) return;\n",
              "\n",
              "          const docLinkHtml = 'Like what you see? Visit the ' +\n",
              "            '<a target=\"_blank\" href=https://colab.research.google.com/notebooks/data_table.ipynb>data table notebook</a>'\n",
              "            + ' to learn more about interactive tables.';\n",
              "          element.innerHTML = '';\n",
              "          dataTable['output_type'] = 'display_data';\n",
              "          await google.colab.output.renderOutput(dataTable, element);\n",
              "          const docLink = document.createElement('div');\n",
              "          docLink.innerHTML = docLinkHtml;\n",
              "          element.appendChild(docLink);\n",
              "        }\n",
              "      </script>\n",
              "    </div>\n",
              "  </div>\n",
              "  "
            ]
          },
          "metadata": {},
          "execution_count": 29
        }
      ]
    }
  ]
}